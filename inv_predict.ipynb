{
 "cells": [
  {
   "cell_type": "code",
   "execution_count": null,
   "metadata": {},
   "outputs": [],
   "source": [
    "# Base\n",
    "import pandas as pd\n",
    "\n",
    "# Data\n",
    "import collections\n",
    "from river import datasets\n",
    "\n",
    "from river import optim\n",
    "from river import linear_model\n",
    "from river import imblearn\n",
    "from river import anomaly\n",
    "from river import neighbors\n",
    "from river import facto\n",
    "from river import naive_bayes\n",
    "from river import tree\n",
    "from river import ensemble\n",
    "from river import metrics\n",
    "from river import evaluate\n",
    "from river import preprocessing\n",
    "from river import feature_extraction\n",
    "from river import stats\n",
    "from river import utils\n",
    "from river import dummy\n",
    "\n",
    "from streamz import Stream\n",
    "from streamz.river import RiverTrain, RiverPredict"
   ]
  },
  {
   "cell_type": "code",
   "execution_count": null,
   "metadata": {},
   "outputs": [],
   "source": [
    "X_y = datasets.CreditCard()\n",
    "\n",
    "counts = collections.Counter(y for _, y in X_y)\n",
    "\n",
    "for c, count in counts.items():\n",
    "    print(f'{c}: {count} ({count / sum(counts.values()):.5%})')\n"
   ]
  },
  {
   "cell_type": "code",
   "execution_count": null,
   "metadata": {},
   "outputs": [],
   "source": [
    "model = (\n",
    "    preprocessing.StandardScaler() |\n",
    "    imblearn.RandomUnderSampler(\n",
    "        classifier=linear_model.LogisticRegression(\n",
    "            loss=optim.losses.Log(weight_pos=5)\n",
    "        ),\n",
    "        desired_dist={0: .8, 1: .2},\n",
    "        seed=42\n",
    "    )\n",
    ")\n",
    "\n",
    "metric = metrics.ClassificationReport()\n",
    "\n",
    "anomaly_times = []\n",
    "for x, y in X_y:\n",
    "    y_pred = model.predict_one(x)\n",
    "    if y_pred == 1:\n",
    "        anomaly_times.append(1)\n",
    "    else:\n",
    "        anomaly_times.append(0)\n",
    "    metric = metric.update(y, y_pred)\n",
    "    model = model.learn_one(x, y)\n",
    "    \n",
    "metric"
   ]
  },
  {
   "cell_type": "code",
   "execution_count": null,
   "metadata": {},
   "outputs": [],
   "source": [
    "import numpy as np\n",
    "import pandas as pd\n",
    "import plotly.express as px\n"
   ]
  },
  {
   "cell_type": "code",
   "execution_count": null,
   "metadata": {},
   "outputs": [],
   "source": [
    "df = pd.DataFrame.from_dict(X_y.take(X_y.n_samples))\n",
    "df_y = df[1]\n",
    "df = pd.json_normalize(df[0])\n",
    "df[1] = df_y\n",
    "df['pred'] = anomaly_times\n",
    "df.head()"
   ]
  },
  {
   "cell_type": "code",
   "execution_count": null,
   "metadata": {},
   "outputs": [],
   "source": [
    "px.line(df.head(10000)[[\"V12\", 1, 'pred']])"
   ]
  },
  {
   "cell_type": "code",
   "execution_count": null,
   "metadata": {},
   "outputs": [],
   "source": [
    "class HalfSpaceTrees(anomaly.HalfSpaceTrees):\n",
    "  def learn_one(self, x, y=None):\n",
    "    return anomaly.HalfSpaceTrees.learn_one(self, x)\n",
    "  def predict_one(self, x, y=None):\n",
    "    return anomaly.HalfSpaceTrees.score_one(self, x)\n",
    "  def predict_proba_one(self, x, y=None):\n",
    "    p = anomaly.HalfSpaceTrees.score_one(self, x)\n",
    "    return {False: 1.0 - p, True: p}\n",
    "  \n",
    "class OneClassSVM(anomaly.OneClassSVM):\n",
    "  def learn_one(self, x, y=None):\n",
    "    return anomaly.OneClassSVM.learn_one(self, x)\n",
    "  def predict_one(self, x, y=None):\n",
    "    return anomaly.OneClassSVM.score_one(self, x)\n",
    "  def predict_proba_one(self, x, y=None):\n",
    "    p = anomaly.OneClassSVM.score_one(self, x)\n",
    "    return {False: 1.0 - p, True: p}"
   ]
  },
  {
   "cell_type": "code",
   "execution_count": null,
   "metadata": {},
   "outputs": [],
   "source": [
    "model = anomaly.QuantileFilter(\n",
    "        anomaly.HalfSpaceTrees(seed=42),\n",
    "        q=0.95\n",
    "    )\n",
    "\n",
    "\n",
    "anomaly_times = []\n",
    "for i in df.iterrows():\n",
    "    x = i[1].drop('time').to_dict()\n",
    "    score = model.score_one(x)\n",
    "    y_pred = model.classify(score)\n",
    "    \n",
    "    if y_pred == 1:\n",
    "        anomaly_times.append(1)\n",
    "    else:\n",
    "        anomaly_times.append(0)\n",
    "    model = model.learn_one(x)\n",
    "        \n",
    "    "
   ]
  },
  {
   "cell_type": "code",
   "execution_count": null,
   "metadata": {},
   "outputs": [],
   "source": [
    "px.line(x=df.time, y=[anomaly_times, df.SOC])"
   ]
  },
  {
   "cell_type": "code",
   "execution_count": null,
   "metadata": {},
   "outputs": [],
   "source": [
    "model = (\n",
    "    #feature_extraction.TargetAgg(by='V1', how=utils.Rolling(stats.Mean(), 7)) |\n",
    "    preprocessing.StandardScaler() |\n",
    "    dummy.NoChangeClassifier()\n",
    ")\n",
    "\n",
    "metric = metrics.ClassificationReport()\n",
    "\n",
    "for i, data in enumerate(X_y):\n",
    "    x, y = data\n",
    "    if i > 0:\n",
    "        y_pred = model.predict_one(x)\n",
    "        metric = metric.update(y, y_pred)\n",
    "    model = model.learn_one(x, y)\n",
    "    \n",
    "metric"
   ]
  },
  {
   "cell_type": "code",
   "execution_count": null,
   "metadata": {},
   "outputs": [],
   "source": [
    "model = (\n",
    "    preprocessing.StandardScaler() |\n",
    "    ensemble.VotingClassifier(models=(\n",
    "        tree.HoeffdingTreeClassifier(\n",
    "                splitter=tree.splitter.GaussianSplitter(),\n",
    "                leaf_prediction=\"mc\",\n",
    "                max_depth=5\n",
    "            ),\n",
    "        linear_model.LogisticRegression(\n",
    "            loss=optim.losses.Log(weight_pos=5)\n",
    "        )\n",
    "    ))\n",
    ")\n",
    "\n",
    "metric = metrics.ClassificationReport()\n",
    "\n",
    "for i, data in enumerate(X_y):\n",
    "    x, y = data\n",
    "    if i > 0:\n",
    "        y_pred = model.predict_one(x)\n",
    "        metric = metric.update(y, y_pred)\n",
    "    model = model.learn_one(x, y)\n",
    "    \n",
    "metric"
   ]
  },
  {
   "cell_type": "code",
   "execution_count": null,
   "metadata": {},
   "outputs": [],
   "source": [
    "model = (\n",
    "    \n",
    "    ensemble.VotingClassifier(models=(\n",
    "        preprocessing.MinMaxScaler() |\n",
    "        tree.HoeffdingTreeClassifier(\n",
    "                splitter=tree.splitter.GaussianSplitter(),\n",
    "                leaf_prediction=\"mc\",\n",
    "                max_depth=5\n",
    "            ),\n",
    "        preprocessing.StandardScaler() |\n",
    "        linear_model.LogisticRegression(\n",
    "            loss=optim.losses.Log(weight_pos=5)\n",
    "        )\n",
    "    ))\n",
    ")\n",
    "\n",
    "metric = metrics.ClassificationReport()\n",
    "\n",
    "for i, data in enumerate(X_y):\n",
    "    x, y = data\n",
    "    if i > 0:\n",
    "        y_pred = model.predict_one(x)\n",
    "        metric = metric.update(y, y_pred)\n",
    "    model = model.learn_one(x, y)\n",
    "    \n",
    "metric"
   ]
  },
  {
   "cell_type": "code",
   "execution_count": null,
   "metadata": {},
   "outputs": [],
   "source": [
    "model['HoeffdingTreeClassifier'].draw()"
   ]
  },
  {
   "cell_type": "code",
   "execution_count": null,
   "metadata": {},
   "outputs": [],
   "source": [
    "from river import utils\n",
    "\n",
    "def _raw_dot_one(self, x: dict) -> float:\n",
    "    # Performs matrix multiplication x.__matmul__(y)\n",
    "    return self._weights @ utils.VectorDict(x) + self.intercept"
   ]
  },
  {
   "cell_type": "code",
   "execution_count": null,
   "metadata": {},
   "outputs": [],
   "source": [
    "v = _raw_dot_one(model, x)\n",
    "v"
   ]
  },
  {
   "cell_type": "code",
   "execution_count": null,
   "metadata": {},
   "outputs": [],
   "source": [
    "model._raw_dot_one(x)"
   ]
  },
  {
   "cell_type": "code",
   "execution_count": null,
   "metadata": {},
   "outputs": [],
   "source": [
    "loss=optim.losses.Log()"
   ]
  },
  {
   "cell_type": "code",
   "execution_count": null,
   "metadata": {},
   "outputs": [],
   "source": [
    "p = loss.mean_func(v)"
   ]
  },
  {
   "cell_type": "code",
   "execution_count": null,
   "metadata": {},
   "outputs": [],
   "source": [
    "{False: 1.0 - p, True: p}"
   ]
  },
  {
   "cell_type": "code",
   "execution_count": null,
   "metadata": {},
   "outputs": [],
   "source": [
    "p = loss.mean_func(v)\n",
    "p"
   ]
  },
  {
   "cell_type": "code",
   "execution_count": null,
   "metadata": {},
   "outputs": [],
   "source": [
    "y_pred = {False: 1.0 - p, True: p}\n",
    "y_pred"
   ]
  },
  {
   "attachments": {},
   "cell_type": "markdown",
   "metadata": {},
   "source": [
    "Inverse"
   ]
  },
  {
   "cell_type": "code",
   "execution_count": null,
   "metadata": {},
   "outputs": [],
   "source": [
    "import numpy as np"
   ]
  },
  {
   "cell_type": "code",
   "execution_count": null,
   "metadata": {},
   "outputs": [],
   "source": [
    "p_ = y_pred[True]"
   ]
  },
  {
   "cell_type": "code",
   "execution_count": null,
   "metadata": {},
   "outputs": [],
   "source": [
    "eps = 1e-12# np.spacing(p_)\n",
    "raw_dot = -np.log((1-(p_ + eps))/(p_ + eps))\n",
    "raw_dot"
   ]
  },
  {
   "cell_type": "code",
   "execution_count": null,
   "metadata": {},
   "outputs": [],
   "source": [
    "model.intercept"
   ]
  },
  {
   "cell_type": "code",
   "execution_count": null,
   "metadata": {},
   "outputs": [],
   "source": [
    "(raw_dot - model.intercept)"
   ]
  },
  {
   "cell_type": "code",
   "execution_count": null,
   "metadata": {},
   "outputs": [],
   "source": [
    "w = list(model._weights.values())"
   ]
  },
  {
   "cell_type": "code",
   "execution_count": null,
   "metadata": {},
   "outputs": [],
   "source": [
    "np.array([np.array(w), np.ones(len(w))]).shape"
   ]
  },
  {
   "cell_type": "code",
   "execution_count": null,
   "metadata": {},
   "outputs": [],
   "source": [
    "np.linalg.lstsq(w, raw_dot)"
   ]
  },
  {
   "cell_type": "code",
   "execution_count": null,
   "metadata": {},
   "outputs": [],
   "source": [
    "np.linalg.pinv(w)"
   ]
  }
 ],
 "metadata": {
  "kernelspec": {
   "display_name": "venv",
   "language": "python",
   "name": "python3"
  },
  "language_info": {
   "codemirror_mode": {
    "name": "ipython",
    "version": 3
   },
   "file_extension": ".py",
   "mimetype": "text/x-python",
   "name": "python",
   "nbconvert_exporter": "python",
   "pygments_lexer": "ipython3",
   "version": "3.10.1 (v3.10.1:2cd268a3a9, Dec  6 2021, 14:28:59) [Clang 13.0.0 (clang-1300.0.29.3)]"
  },
  "orig_nbformat": 4,
  "vscode": {
   "interpreter": {
    "hash": "3687c152e6c0e1eeeaff2a3b00d71d22322a3217307c0c25275bf60fac6f7cb1"
   }
  }
 },
 "nbformat": 4,
 "nbformat_minor": 2
}
