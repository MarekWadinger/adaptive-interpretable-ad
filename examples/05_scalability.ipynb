{
 "cells": [
  {
   "cell_type": "markdown",
   "metadata": {},
   "source": [
    "# Scalalbility"
   ]
  },
  {
   "cell_type": "markdown",
   "metadata": {},
   "source": [
    "### Import"
   ]
  },
  {
   "cell_type": "code",
   "execution_count": 93,
   "metadata": {},
   "outputs": [],
   "source": [
    "import datetime as dt\n",
    "import sys\n",
    "\n",
    "from pathlib import Path\n",
    "\n",
    "import pandas as pd\n",
    "\n",
    "from river import utils\n",
    "\n",
    "sys.path.insert(1, str(Path().resolve().parent))\n",
    "from functions.anomaly import ConditionalGaussianScorer  # noqa: E402\n",
    "from functions.proba import MultivariateGaussian  # noqa: E402\n",
    "from functions.evaluate import progressive_val_predict  # noqa: E402"
   ]
  },
  {
   "cell_type": "markdown",
   "metadata": {},
   "source": [
    "### Load"
   ]
  },
  {
   "cell_type": "code",
   "execution_count": 94,
   "metadata": {},
   "outputs": [],
   "source": [
    "df = pd.read_csv(\n",
    "    \"/Users/marekwadinger/PyProjects/online_outlier_detection/examples/data/kokam/2023-11-24_kokam_norm.csv\",\n",
    "    index_col=0,\n",
    ")\n",
    "df.index = pd.to_datetime(df.index, utc=True)"
   ]
  },
  {
   "cell_type": "code",
   "execution_count": 95,
   "metadata": {},
   "outputs": [],
   "source": [
    "ser_gt = pd.read_csv(\n",
    "    \"/Users/marekwadinger/PyProjects/online_outlier_detection/examples/\"\n",
    "    \"data/kokam/kokam_ground_truth.csv\",\n",
    "    index_col=0,\n",
    ")[\"F_Module Fan Fault\"]\n",
    "ser_gt.index = pd.to_datetime(ser_gt.index, utc=True)"
   ]
  },
  {
   "cell_type": "markdown",
   "metadata": {},
   "source": [
    "### Scalabiity of Detection Tasks"
   ]
  },
  {
   "cell_type": "code",
   "execution_count": null,
   "metadata": {},
   "outputs": [],
   "source": [
    "# CONSTANTS\n",
    "days = 28\n",
    "WINDOW = dt.timedelta(hours=24 * days)\n",
    "minutes = int(WINDOW.total_seconds() / 60)\n",
    "GRACE_PERIOD = dt.timedelta(minutes=48 * 60 / 2)  # 48 * 60\n",
    "THRESHOLD = 0.99994\n",
    "\n",
    "latencies_df = pd.DataFrame([])\n",
    "try:\n",
    "    for n_cols in [1, 10, 20, 30, 40, 50, 60]:\n",
    "        df_ = df.iloc[:, 0:n_cols].copy()\n",
    "        model = ConditionalGaussianScorer(\n",
    "            utils.TimeRolling(MultivariateGaussian(), period=WINDOW),\n",
    "            grace_period=GRACE_PERIOD,\n",
    "            t_a=int(minutes),\n",
    "            threshold=THRESHOLD,\n",
    "        )\n",
    "\n",
    "        system_anomaly, meta = progressive_val_predict(\n",
    "            model=model,\n",
    "            dataset=df_,\n",
    "            detect_signal=False,\n",
    "            detect_change=True,\n",
    "            compute_latency=True,\n",
    "        )\n",
    "\n",
    "        df_out = pd.DataFrame(\n",
    "            {\"System Anomaly\": system_anomaly, **meta}, index=df_.index\n",
    "        )\n",
    "        latencies_df[n_cols] = df_out.Latency.describe()\n",
    "        print(f\"Done with {n_cols} columns\")\n",
    "except Exception as e:\n",
    "    print(e)\n",
    "finally:\n",
    "    latencies_df.to_csv(\"latencies_detection.csv\")"
   ]
  },
  {
   "cell_type": "markdown",
   "metadata": {},
   "source": [
    "### Scalabiity of Detection + Limits Tasks"
   ]
  },
  {
   "cell_type": "code",
   "execution_count": null,
   "metadata": {},
   "outputs": [],
   "source": [
    "# CONSTANTS\n",
    "days = 28\n",
    "WINDOW = dt.timedelta(hours=24 * days)\n",
    "minutes = int(WINDOW.total_seconds() / 60)\n",
    "GRACE_PERIOD = dt.timedelta(minutes=48 * 60 / 2)  # 48 * 60\n",
    "THRESHOLD = 0.99994\n",
    "\n",
    "latencies_df = pd.DataFrame([])\n",
    "try:\n",
    "    for n_cols in [1, 10, 20, 30, 40, 50, 60]:\n",
    "        df_ = df.iloc[:, 0:n_cols].copy()\n",
    "        model = ConditionalGaussianScorer(\n",
    "            utils.TimeRolling(MultivariateGaussian(), period=WINDOW),\n",
    "            grace_period=GRACE_PERIOD,\n",
    "            t_a=int(minutes),\n",
    "            threshold=THRESHOLD,\n",
    "        )\n",
    "\n",
    "        system_anomaly, meta = progressive_val_predict(\n",
    "            model=model,\n",
    "            dataset=df_,\n",
    "            detect_signal=False,\n",
    "            detect_change=True,\n",
    "            compute_limits=True,\n",
    "            compute_latency=True,\n",
    "        )\n",
    "\n",
    "        df_out = pd.DataFrame(\n",
    "            {\"System Anomaly\": system_anomaly, **meta}, index=df_.index\n",
    "        )\n",
    "        latencies_df[n_cols] = df_out.Latency.describe()\n",
    "        print(f\"Done with {n_cols} columns\")\n",
    "except Exception as e:\n",
    "    print(e)\n",
    "finally:\n",
    "    latencies_df.to_csv(\"latencies_detection_limits.csv\")"
   ]
  }
 ],
 "metadata": {
  "kernelspec": {
   "display_name": ".env",
   "language": "python",
   "name": "python3"
  },
  "language_info": {
   "codemirror_mode": {
    "name": "ipython",
    "version": 3
   },
   "file_extension": ".py",
   "mimetype": "text/x-python",
   "name": "python",
   "nbconvert_exporter": "python",
   "pygments_lexer": "ipython3",
   "version": "3.11.6"
  },
  "orig_nbformat": 4
 },
 "nbformat": 4,
 "nbformat_minor": 2
}
