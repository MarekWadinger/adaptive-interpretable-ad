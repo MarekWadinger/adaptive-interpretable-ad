{
 "cells": [
  {
   "cell_type": "code",
   "execution_count": null,
   "metadata": {},
   "outputs": [],
   "source": [
    "import sys\n",
    "import datetime as dt\n",
    "\n",
    "from pathlib import Path\n",
    "\n",
    "import pandas as pd\n",
    "\n",
    "from river import metrics\n",
    "from river import utils\n",
    "from river.proba import Gaussian\n",
    "\n",
    "sys.path. insert(1, str(Path().resolve().parent))\n",
    "from functions.anomaly import GaussianScorer\n",
    "from functions.proba import MultivariateGaussian\n",
    "from functions.evaluate import print_stats, progressive_val_predict"
   ]
  },
  {
   "cell_type": "code",
   "execution_count": null,
   "metadata": {},
   "outputs": [],
   "source": [
    "df = pd.read_csv(\"data/multivariate/Occupancy/room-occupancy-1.test.csv\", index_col=0).dropna(axis=0)\n",
    "df.index = pd.to_timedelta(range(0, len(df)), 'T') + dt.datetime.now().replace(microsecond=0)\n",
    "\n",
    "df = df.rename(columns={\"is_anomaly\": \"anomaly\"})\n",
    "\n",
    "print(f\"{'Real anomalous samples | events | proportion:':<55} \"\n",
    "      f\"{sum(df.anomaly):<8} | {sum(df.anomaly.diff().dropna() == 1):<5} | \"\n",
    "      f\"{sum(df.anomaly)/len(df.anomaly):.02%}\")"
   ]
  },
  {
   "cell_type": "code",
   "execution_count": null,
   "metadata": {},
   "outputs": [],
   "source": [
    "df.plot()"
   ]
  },
  {
   "cell_type": "code",
   "execution_count": null,
   "metadata": {},
   "outputs": [],
   "source": [
    "df.anomaly.plot()"
   ]
  },
  {
   "cell_type": "code",
   "execution_count": null,
   "metadata": {},
   "outputs": [],
   "source": [
    "# CONSTANTS\n",
    "WINDOW = dt.timedelta(hours=2)\n",
    "minutes = int(WINDOW.total_seconds()/60)\n",
    "GRACE_PERIOD=minutes*2/4\n",
    "LOG_THRESHOLD = -100\n",
    "\n",
    "f1 = metrics.F1()\n",
    "recall = metrics.Recall()\n",
    "prec = metrics.Precision()\n",
    "\n",
    "\n",
    "model = GaussianScorer(\n",
    "    utils.TimeRolling(MultivariateGaussian(), period=WINDOW),\n",
    "    grace_period=GRACE_PERIOD,\n",
    "    log_threshold=LOG_THRESHOLD\n",
    "    )\n",
    "\n",
    "\n",
    "y_pred, change_point =\\\n",
    "    progressive_val_predict(model, df, [f1, recall, prec], print_every=0,\n",
    "                            protect_anomaly_detector=True,\n",
    "                            do_predict_log=True,\n",
    "                            **{\"t_a\": int(minutes)})\n",
    "\n",
    "print_stats(df, y_pred, change_point)"
   ]
  },
  {
   "cell_type": "code",
   "execution_count": null,
   "metadata": {},
   "outputs": [],
   "source": [
    "from river import anomaly, preprocessing\n",
    "from river import metrics\n",
    "import numpy as np\n",
    "from river import feature_extraction as fx\n",
    "\n",
    "\n",
    "class QuantileFilter(anomaly.QuantileFilter):\n",
    "  def __init__(self, anomaly_detector, q: float, protect_anomaly_detector=True):\n",
    "        super().__init__(\n",
    "            anomaly_detector=anomaly_detector,\n",
    "            protect_anomaly_detector=protect_anomaly_detector,\n",
    "            q=q\n",
    "        )\n",
    "  def predict_one(self, *args):\n",
    "    score = self.score_one(*args)\n",
    "    return score >= (self.quantile.get() or np.inf)\n",
    "    \n",
    "    \n",
    "model = (\n",
    "    preprocessing.StandardScaler() |\n",
    "    QuantileFilter(\n",
    "        anomaly.OneClassSVM(),\n",
    "    q=0.50\n",
    "    )\n",
    "    )\n",
    "\n",
    "f1 = metrics.F1()\n",
    "recall = metrics.Recall()\n",
    "prec = metrics.Precision()\n",
    "\n",
    "y_pred, change_point =\\\n",
    "    progressive_val_predict(model, df, [f1, recall, prec], print_every=10000)\n",
    "    \n",
    "print_stats(df, y_pred, change_point)"
   ]
  },
  {
   "cell_type": "code",
   "execution_count": null,
   "metadata": {},
   "outputs": [],
   "source": [
    "from river import anomaly, preprocessing\n",
    "from river import metrics\n",
    "\n",
    "scaler = preprocessing.MinMaxScaler()\n",
    "\n",
    "model = (\n",
    "    preprocessing.MinMaxScaler() |\n",
    "    QuantileFilter(\n",
    "        anomaly.HalfSpaceTrees(),\n",
    "    q=0.50\n",
    "    )\n",
    "    )\n",
    "\n",
    "f1 = metrics.F1()\n",
    "recall = metrics.Recall()\n",
    "prec = metrics.Precision()\n",
    "\n",
    "y_pred, change_point =\\\n",
    "    progressive_val_predict(model, df, [f1, recall, prec], print_every=10000)\n",
    "\n",
    "print_stats(df, y_pred, change_point)"
   ]
  }
 ],
 "metadata": {
  "kernelspec": {
   "display_name": "venv",
   "language": "python",
   "name": "python3"
  },
  "language_info": {
   "codemirror_mode": {
    "name": "ipython",
    "version": 3
   },
   "file_extension": ".py",
   "mimetype": "text/x-python",
   "name": "python",
   "nbconvert_exporter": "python",
   "pygments_lexer": "ipython3",
   "version": "3.10.1"
  },
  "orig_nbformat": 4
 },
 "nbformat": 4,
 "nbformat_minor": 2
}
