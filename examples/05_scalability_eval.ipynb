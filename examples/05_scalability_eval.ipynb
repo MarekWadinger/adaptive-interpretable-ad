{
 "cells": [
  {
   "cell_type": "code",
   "execution_count": 1,
   "metadata": {},
   "outputs": [
    {
     "data": {
      "image/png": "[encoded data removed]",
      "text/plain": [
       "<Figure size 413.386x255.487 with 2 Axes>"
      ]
     },
     "metadata": {},
     "output_type": "display_data"
    }
   ],
   "source": [
    "import datetime as dt\n",
    "import sys\n",
    "\n",
    "from pathlib import Path\n",
    "\n",
    "import matplotlib.pyplot as plt\n",
    "import pandas as pd\n",
    "\n",
    "plt.rcParams[\"figure.subplot.left\"] = 0.10\n",
    "plt.rcParams[\"figure.subplot.bottom\"] = 0.2\n",
    "plt.rcParams[\"figure.subplot.right\"] = 0.95\n",
    "plt.rcParams[\"figure.subplot.top\"] = 0.85\n",
    "sys.path.insert(\n",
    "    1, str(Path().resolve().parent / \"publications/ilustrate/pc2023\")\n",
    ")\n",
    "from plot_matplotlib import set_size, PLOT_WIDTH  # noqa: E402\n",
    "\n",
    "results_path = \".results/scalability/\"\n",
    "fig, axs = plt.subplots(1, 2, figsize=set_size(PLOT_WIDTH), sharey=True)\n",
    "for i, result_file in enumerate(\n",
    "    [\"latencies_detection.csv\", \"latencies_detection_limits.csv\"]\n",
    "):\n",
    "    df = pd.read_csv(results_path + result_file, index_col=0)\n",
    "    df.index = pd.to_datetime(df.index)\n",
    "\n",
    "    axs[i].violinplot(\n",
    "        df.loc[df.index[0] + dt.timedelta(minutes=48 * 60 / 2) : :],\n",
    "        showmeans=True,\n",
    "        # showmedians=True,\n",
    "        showextrema=False,\n",
    "        widths=1.5,\n",
    "        # quantiles=[[0.25, 0.75]] * len(df.columns),\n",
    "        points=1000,\n",
    "    )\n",
    "    # axs[i].set_yscale(\"log\")\n",
    "    xtick_positions = range(1, 8)  # Example positions\n",
    "    axs[i].set_xticks(xtick_positions)\n",
    "    axs[i].set_xticklabels(list(df.columns))\n",
    "    axs[i].set_xlabel(\"Number of features\")\n",
    "    axs[i].set_ylim(0, 600)  # (1e-1, 1e3) for log scale\n",
    "\n",
    "axs[0].set_ylabel(\"Latency (ms)\")\n",
    "fig.tight_layout()\n",
    "fig.savefig(\"plots/scalability.pdf\")"
   ]
  },
  {
   "cell_type": "code",
   "execution_count": 2,
   "metadata": {},
   "outputs": [
    {
     "name": "stdout",
     "output_type": "stream",
     "text": [
      "latencies_detection.csv\n",
      "Function: power_fun\n",
      "Parameters: [1.03122167e-04 3.48596726e+00]\n",
      "RMSE: 8.949187630935729\n",
      "\n",
      "latencies_detection_limits.csv\n",
      "Function: power_fun\n",
      "Parameters: [2.25554105e-04 3.55452980e+00]\n",
      "RMSE: 23.046911348264477\n",
      "\n"
     ]
    }
   ],
   "source": [
    "import numpy as np\n",
    "from scipy.optimize import curve_fit\n",
    "\n",
    "\n",
    "# Function definitions\n",
    "def power_fun(x, a, b):\n",
    "    return a * x**b\n",
    "\n",
    "\n",
    "# Initial guess for parameters\n",
    "x_init = [1.0]\n",
    "\n",
    "candidate_funs = [power_fun]\n",
    "\n",
    "for i, result_file in enumerate(\n",
    "    [\"latencies_detection.csv\", \"latencies_detection_limits.csv\"]\n",
    "):\n",
    "    print(result_file)\n",
    "    df = pd.read_csv(results_path + result_file, index_col=0)\n",
    "    df.index = pd.to_datetime(df.index)\n",
    "    means = df.median()\n",
    "    x = means.index\n",
    "    y = means.values\n",
    "\n",
    "    for fun in candidate_funs:\n",
    "        params, covariance = curve_fit(fun, x.astype(\"int\"), y)\n",
    "        y_fit = fun(x.astype(\"int\"), *params)\n",
    "        rmse = np.sqrt(np.mean((y - y_fit) ** 2))\n",
    "        print(\"Function:\", fun.__name__)\n",
    "        print(\"Parameters:\", params)\n",
    "        print(\"RMSE:\", rmse)\n",
    "        print()\n",
    "\n",
    "        axs[i].plot(\n",
    "            [None] + list(y_fit),\n",
    "            \".-\",\n",
    "            linewidth=0.5,\n",
    "            markersize=3,\n",
    "            label=rf\"{params[0]:.4f} * x^{{{params[1]:.1f}}}\",\n",
    "        )\n",
    "        axs[i].legend(loc=\"upper left\")\n",
    "        axs[i].annotate\n",
    "fig.savefig(\"plots/scalability.pdf\")"
   ]
  }
 ],
 "metadata": {
  "kernelspec": {
   "display_name": ".venv",
   "language": "python",
   "name": "python3"
  },
  "language_info": {
   "codemirror_mode": {
    "name": "ipython",
    "version": 3
   },
   "file_extension": ".py",
   "mimetype": "text/x-python",
   "name": "python",
   "nbconvert_exporter": "python",
   "pygments_lexer": "ipython3",
   "version": "3.11.6"
  }
 },
 "nbformat": 4,
 "nbformat_minor": 2
}
