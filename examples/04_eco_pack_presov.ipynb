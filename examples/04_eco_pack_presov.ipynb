{
 "cells": [
  {
   "cell_type": "markdown",
   "metadata": {},
   "source": [
    "# Eco-Pack Presov"
   ]
  },
  {
   "cell_type": "code",
   "execution_count": null,
   "metadata": {},
   "outputs": [],
   "source": [
    "%load_ext autoreload\n",
    "%autoreload 2"
   ]
  },
  {
   "cell_type": "markdown",
   "metadata": {},
   "source": [
    "### Import"
   ]
  },
  {
   "cell_type": "code",
   "execution_count": null,
   "metadata": {},
   "outputs": [],
   "source": [
    "import datetime as dt\n",
    "import sys\n",
    "\n",
    "from pathlib import Path\n",
    "\n",
    "import numpy as np\n",
    "import pandas as pd\n",
    "\n",
    "from river import metrics\n",
    "from river import utils, compose\n",
    "from river.proba import Gaussian\n",
    "from scipy.stats import kstest\n",
    "\n",
    "sys.path.insert(1, str(Path().resolve().parent))\n",
    "from functions.anomaly import (GaussianScorer, ConditionalGaussianScorer,\n",
    "                               ThresholdChangeFilter)\n",
    "from functions.proba import MultivariateGaussian\n",
    "from functions.plot import plot_limits_3d, plot_limits_grid\n",
    "\n",
    "from models.bess_model import BESS"
   ]
  },
  {
   "cell_type": "markdown",
   "metadata": {},
   "source": [
    "### Load"
   ]
  },
  {
   "cell_type": "code",
   "execution_count": null,
   "metadata": {},
   "outputs": [],
   "source": [
    "df = pd.read_csv(\"/Users/marekwadinger/PyProjects/online_outlier_detection/examples/data/kokam/20230908_eco_pack_presov.csv\", index_col=0)\n",
    "df.index = pd.to_datetime(df.index, utc=True)\n",
    "df.columns = df.columns.str.replace(\"Kokam_String:\", \"\")\n",
    "ser_gt = df['F_Module Fan Fault']\n",
    "ser_gt[ser_gt.isna()] = 0"
   ]
  },
  {
   "cell_type": "code",
   "execution_count": null,
   "metadata": {},
   "outputs": [],
   "source": [
    "df = df.interpolate()"
   ]
  },
  {
   "cell_type": "code",
   "execution_count": null,
   "metadata": {},
   "outputs": [],
   "source": [
    "df_avg = pd.read_csv(\"/Users/marekwadinger/PyProjects/online_outlier_detection/examples/data/kokam/20230908_model_input.csv\", index_col=0)\n",
    "df_avg.index = pd.to_datetime(df_avg.index, utc=True)\n",
    "df_avg.columns = df_avg.columns.str.replace(\"Kokam_String:\", \"\")\n",
    "df_avg = df_avg[['Avg. Cell Temperature']]"
   ]
  },
  {
   "cell_type": "markdown",
   "metadata": {},
   "source": [
    "### Preprocess"
   ]
  },
  {
   "cell_type": "code",
   "execution_count": null,
   "metadata": {},
   "outputs": [],
   "source": [
    "df = df.loc[:, df.columns.str.contains(\"Temperature\")]"
   ]
  },
  {
   "cell_type": "code",
   "execution_count": null,
   "metadata": {},
   "outputs": [],
   "source": [
    "df = df['2023-08-20':'2023-08-24']"
   ]
  },
  {
   "cell_type": "markdown",
   "metadata": {},
   "source": [
    "### Feature Engineering"
   ]
  },
  {
   "cell_type": "code",
   "execution_count": null,
   "metadata": {},
   "outputs": [],
   "source": [
    "df_merged = pd.merge_asof(df, df_avg, left_index=True, right_index=True)"
   ]
  },
  {
   "cell_type": "code",
   "execution_count": null,
   "metadata": {},
   "outputs": [],
   "source": [
    "df_avg = df_merged.pop(\"Avg. Cell Temperature\")"
   ]
  },
  {
   "cell_type": "code",
   "execution_count": null,
   "metadata": {},
   "outputs": [],
   "source": [
    "df = df.sub(df_avg, axis=0)"
   ]
  },
  {
   "cell_type": "code",
   "execution_count": null,
   "metadata": {},
   "outputs": [],
   "source": [
    "from sklearn.preprocessing import MinMaxScaler\n",
    "\n",
    "df = pd.DataFrame(\n",
    "    MinMaxScaler().fit_transform(df), index=df.index, columns=df.columns)"
   ]
  },
  {
   "cell_type": "code",
   "execution_count": null,
   "metadata": {},
   "outputs": [],
   "source": [
    "df.head()"
   ]
  },
  {
   "cell_type": "markdown",
   "metadata": {},
   "source": [
    "### Train and Evaluate Detection"
   ]
  },
  {
   "cell_type": "code",
   "execution_count": null,
   "metadata": {},
   "outputs": [],
   "source": [
    "# CONSTANTS\n",
    "days = 7\n",
    "WINDOW = dt.timedelta(hours=24*days)\n",
    "minutes = int(WINDOW.total_seconds()/60)\n",
    "GRACE_PERIOD=48*60\n",
    "THRESHOLD = 0.99977\n",
    "\n",
    "model = (\n",
    "        ConditionalGaussianScorer(\n",
    "            utils.TimeRolling(MultivariateGaussian(), period=WINDOW),\n",
    "            grace_period=GRACE_PERIOD,\n",
    "            t_a = int(minutes),\n",
    "            threshold=THRESHOLD,\n",
    "            )\n",
    "    )\n",
    "\n",
    "sampling_model = GaussianScorer(Gaussian(), grace_period=GRACE_PERIOD)\n",
    "\n",
    "system_anomaly = []\n",
    "signal_anomaly = []\n",
    "sampling_anomaly = []\n",
    "change_point = []\n",
    "list_thresh_pos = []\n",
    "list_thresh_neg = []\n",
    "mus = []\n",
    "covars = []\n",
    "sigmas = []\n",
    "samples = []\n",
    "scores = []\n",
    "\n",
    "for i, (t, x) in enumerate(df.iterrows()):\n",
    "    t = t.tz_localize(None)\n",
    "    x = x.to_dict()\n",
    "    x_ = x\n",
    "    # Check anomaly in system\n",
    "    is_anomaly = model.predict_one(x); system_anomaly.append(is_anomaly)\n",
    "    score = model.score_one(x); scores.append(score)\n",
    "    # Get signal thresholds\n",
    "    thresh_high, thresh_low = model.limit_one(x_)\n",
    "    list_thresh_pos.append(thresh_high)\n",
    "    list_thresh_neg.append(thresh_low)\n",
    "    # Check anomaly in signals\n",
    "    if i != 0:\n",
    "        signal_anomaly.append({k: not ((thresh_low[k] < v) and\n",
    "                                       (v < thresh_high[k])) \n",
    "                               for i, (k, v) in enumerate(x_.items())})\n",
    "    else:\n",
    "        signal_anomaly.append({k: False for i, (k, v) in enumerate(x.items())})\n",
    "    # Check anomaly in sampling\n",
    "    if i != 0:\n",
    "        score_ = sampling_model.score_one((t-t_prev).seconds)\n",
    "        if sampling_model.gaussian.n_samples > sampling_model.grace_period:\n",
    "            sample_a = 1 if ((1-0.99735) > score_) or (score_ > 0.99735) else 0\n",
    "        else: \n",
    "            sample_a = 0\n",
    "        if sample_a:\n",
    "            sampling_anomaly.append(1)\n",
    "            w = 1-score_\n",
    "        else:\n",
    "            sampling_anomaly.append(0)\n",
    "            w = 1\n",
    "        sampling_model.learn_one((t-t_prev).seconds, w=w)\n",
    "    else:\n",
    "        sampling_anomaly.append(0)\n",
    "    t_prev = t\n",
    "    \n",
    "    mus.append(model.gaussian.mu)\n",
    "    covars.append(model.gaussian.var)\n",
    "    sigmas.append(model.gaussian.sigma)\n",
    "    samples.append(model.gaussian.n_samples)\n",
    "    if i != 0:\n",
    "        is_change = (sum(system_anomaly[-int(minutes/days):-1]) / \n",
    "                    len(system_anomaly[-int(minutes/days):-1]) > (1 - 0.95))\n",
    "    else:\n",
    "        is_change = 0\n",
    "    change_point.append(is_change)\n",
    "\n",
    "    model = model.learn_one(x, **{'t': t})\n",
    "\n",
    "for i in range(len(sampling_anomaly)):\n",
    "    if sampling_anomaly[i] == 1:\n",
    "        sampling_anomaly[i-1] = 1\n",
    "\n",
    "df_stats = pd.DataFrame({\"mus\": mus,\n",
    "                       \"covars\": covars,\n",
    "                       \"sigmas\": sigmas},\n",
    "                      index= df.index)\n",
    "\n",
    "df_out = pd.DataFrame({\"level_high\": list_thresh_pos,\n",
    "                       \"level_low\": list_thresh_neg,\n",
    "                       \"System Anomaly\": system_anomaly,\n",
    "                       \"Signal Anomaly\": signal_anomaly,\n",
    "                       \"Sampling Anomaly\": sampling_anomaly,\n",
    "                       \"Changepoint\": change_point,\n",
    "                       \"scores\": scores},\n",
    "                      index= df.index)"
   ]
  },
  {
   "cell_type": "code",
   "execution_count": null,
   "metadata": {},
   "outputs": [],
   "source": [
    "text = (f\"Sliding window: {WINDOW}\\n\"\n",
    "        f\"Proportion of anomalous samples: \"\n",
    "        f\"{sum(system_anomaly)/len(system_anomaly)*100:.02f}%\\n\"\n",
    "        f\"Total number of anomalous events: \"\n",
    "        f\"{sum(pd.Series(system_anomaly).diff().dropna() == 1)}\\n\"\n",
    "        f\"Total number of change points: \"\n",
    "        f\"{sum(change_point)}\\n\"\n",
    "        f\"Total number of sampling anomalies: \"\n",
    "        f\"{sum(sampling_anomaly)}\")\n",
    "\n",
    "print(text)"
   ]
  },
  {
   "cell_type": "code",
   "execution_count": null,
   "metadata": {},
   "outputs": [],
   "source": [
    "from publications.ilustrate.pc2023.plot_matplotlib import *\n",
    "\n",
    "def plot_covariance_ellipse(mean, sigma, ax, probability_interval= 0.99735):\n",
    "    import matplotlib.transforms as transforms\n",
    "    from matplotlib.patches import Ellipse, Rectangle\n",
    "    from scipy.stats import chi\n",
    "    if ax is None:\n",
    "        _, ax = plt.subplots(figsize=(8, 8))\n",
    "\n",
    "    # Eigenvalue decomposition of the covariance matrix\n",
    "    eigvals, eigvecs = np.linalg.eig(sigma)\n",
    "    angle = np.degrees(np.arctan2(*eigvecs[:, 0][::-1]))\n",
    "    rad = np.arctan2(*eigvecs[:, 0][::-1])\n",
    "    print(angle)\n",
    "    # Calculate the width and height of the ellipse corresponding to the desired probability_interval\n",
    "    # The ellipse's radius is the square root of the inverse of the chi-squared distribution with 2 degrees of freedom\n",
    "    chi_val = chi.ppf(probability_interval, 2)\n",
    "    radius_width = np.sqrt(eigvals[0]) * chi_val\n",
    "    radius_height = np.sqrt(eigvals[1]) * chi_val\n",
    "    print(radius_width, radius_height, angle)\n",
    "    ellipse = Ellipse(xy=mean, width=radius_width, height=radius_height,\n",
    "                    angle=angle, alpha=0.25, color=colors[0])\n",
    "    ax.add_patch(ellipse)\n",
    "\n",
    "    # Plot the mean point\n",
    "    ax.plot(mean[0], mean[1], 'ro', markersize=5)\n",
    "\n",
    "    # Set axis labels\n",
    "    ax.set_xlabel('X-axis')\n",
    "    ax.set_ylabel('Y-axis')\n",
    "\n",
    "    # Set title\n",
    "    ax.set_title('Covariance Ellipse')\n",
    "\n",
    "    bbox_display = ellipse.get_window_extent()\n",
    "    bbox_data = bbox_display.transformed(ax.transData.inverted())\n",
    "    x_min, y_min = bbox_data.min\n",
    "    x_max, y_max = bbox_data.max\n",
    "    rectangle = Rectangle((x_min, y_min), x_max - x_min, y_max - y_min, alpha=0.25, color=(1, 0, 0, 0.5), fill=False)\n",
    "    ax.add_patch(rectangle)\n",
    "    print(bbox_data)\n",
    "    print(ellipse.get_corners())\n",
    "\n",
    "def on_click(event):\n",
    "    import matplotlib\n",
    "    # Check if the event occurred in the first subplot\n",
    "    if event.inaxes == axs[1]:\n",
    "        x, y = event.xdata, event.ydata\n",
    "        x_date = matplotlib.dates.num2date(x)\n",
    "        pos = df.index.get_indexer(\n",
    "            [x_date - WINDOW, x_date], method='nearest')\n",
    "        points = df.iloc[pos[0]:pos[1]]\n",
    "        a = anomalies.iloc[pos[0]:pos[1]]\n",
    "        mean = mus[pos[1]]\n",
    "        sigma = sigmas[pos[1]]\n",
    "        axs[3].clear()\n",
    "        axs[3].scatter(points[a!=1].iloc[:,0], points[a!=1].iloc[:,1], s=1)\n",
    "        axs[3].scatter(points.iloc[-1,0], points.iloc[-1,1], marker='x', s=30, color=colors[5] if a[-1] else colors[0])\n",
    "        plot_covariance_ellipse(mean, sigma, axs[3], \n",
    "                                THRESHOLD**len(df.columns))\n",
    "        axs[3].set_xlim(df.iloc[:, 0].min(), df.iloc[:, 0].max())\n",
    "        # Update the second subplot\n",
    "        fig.canvas.draw()\n",
    "\n",
    "# fig.canvas.mpl_connect('button_press_event', on_click)\n",
    "\n",
    "# plt.show()\n"
   ]
  },
  {
   "cell_type": "code",
   "execution_count": null,
   "metadata": {},
   "outputs": [],
   "source": [
    "import PyQt6.QtCore\n",
    "%matplotlib qt\n",
    "plot_limits_grid_(\n",
    "    df,\n",
    "    df_out[\"System Anomaly\"],\n",
    "    df_out[\"Changepoint\"], \n",
    "    df_out[\"Sampling Anomaly\"],\n",
    "    ser_gt.rename(\"Fan Fault\"),\n",
    "    ser_high=df_out.iloc[1:, :]['level_high'],\n",
    "    ser_low=df_out.iloc[1:, :]['level_low'],\n",
    "    signal_anomaly=df_out[\"Signal Anomaly\"],\n",
    "    file_name=\"Kokam\",\n",
    "    save=True,\n",
    "    **{\n",
    "        'resample': '30s',\n",
    "        'grace_period': GRACE_PERIOD\n",
    "        })"
   ]
  }
 ],
 "metadata": {
  "kernelspec": {
   "display_name": ".env",
   "language": "python",
   "name": "python3"
  },
  "language_info": {
   "codemirror_mode": {
    "name": "ipython",
    "version": 3
   },
   "file_extension": ".py",
   "mimetype": "text/x-python",
   "name": "python",
   "nbconvert_exporter": "python",
   "pygments_lexer": "ipython3",
   "version": "3.10.1"
  },
  "orig_nbformat": 4
 },
 "nbformat": 4,
 "nbformat_minor": 2
}
