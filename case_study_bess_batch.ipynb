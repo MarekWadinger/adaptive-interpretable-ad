{
 "cells": [
  {
   "cell_type": "code",
   "execution_count": null,
   "metadata": {},
   "outputs": [],
   "source": [
    "# Base\n",
    "import requests\n",
    "import pandas as pd\n",
    "import datetime as dt\n",
    "\n",
    "import plotly.express as px\n",
    "import plotly.graph_objects as go\n",
    "\n",
    "# Data\n",
    "import collections\n",
    "from river import datasets\n",
    "\n",
    "from river import *\n",
    "\n",
    "from streamz import Stream\n",
    "from streamz.river import RiverTrain, RiverPredict"
   ]
  },
  {
   "cell_type": "code",
   "execution_count": null,
   "metadata": {},
   "outputs": [],
   "source": [
    "df = pd.read_csv(\"/Users/marekwadinger/Documents/PhD/Teach/2022-2023/batch_data_processing/exams/data/data_BESS.csv\", index_col=0)"
   ]
  },
  {
   "cell_type": "code",
   "execution_count": null,
   "metadata": {},
   "outputs": [],
   "source": [
    "df"
   ]
  },
  {
   "cell_type": "code",
   "execution_count": null,
   "metadata": {},
   "outputs": [],
   "source": [
    "df.time = pd.to_datetime(df.time)"
   ]
  },
  {
   "cell_type": "code",
   "execution_count": null,
   "metadata": {},
   "outputs": [],
   "source": [
    "df = df.set_index('time')"
   ]
  },
  {
   "cell_type": "code",
   "execution_count": null,
   "metadata": {},
   "outputs": [],
   "source": [
    "na_dates = df.index[df['Outside Temperature'].isna()]"
   ]
  },
  {
   "attachments": {},
   "cell_type": "markdown",
   "metadata": {},
   "source": [
    "Get outside temperature"
   ]
  },
  {
   "cell_type": "code",
   "execution_count": null,
   "metadata": {},
   "outputs": [],
   "source": [
    "try:\n",
    "    url = \"https://archive-api.open-meteo.com/v1/archive?hourly=temperature_2m&timezone=Europe%2FBerlin\"\n",
    "    pos = {'longitude': '49.04', 'latitude': '19.72'}\n",
    "    date_span = {'start_date': na_dates[1].strftime('%Y-%m-%d'), \n",
    "                'end_date': na_dates[-1].strftime('%Y-%m-%d')}\n",
    "\n",
    "    params={**pos, **date_span}\n",
    "\n",
    "    response = requests.get(url, params=params)\n",
    "    df_out_temp = pd.DataFrame(response.json()['hourly'])\n",
    "    df_out_temp.time = pd.to_datetime(df_out_temp.time, utc=True)\n",
    "    df_out_temp = df_out_temp.set_index('time')['temperature_2m']\n",
    "    # Scale\n",
    "    min_temp = -15\n",
    "    max_temp = 50\n",
    "    range_temp = max_temp - min_temp\n",
    "\n",
    "    df_out_temp = (df_out_temp - min_temp) / range_temp\n",
    "    # Rasample\n",
    "    df_out_temp = df_out_temp.resample('1t').interpolate()\n",
    "    # Combine\n",
    "    df['Outside Temperature'] = df['Outside Temperature'].combine_first(df_out_temp)\n",
    "except:\n",
    "    df = df.drop(columns='Outside Temperature', errors='ignore')"
   ]
  },
  {
   "attachments": {},
   "cell_type": "markdown",
   "metadata": {},
   "source": [
    "We need to interpolate in order to keep only 90 minutes window not longer"
   ]
  },
  {
   "cell_type": "code",
   "execution_count": null,
   "metadata": {},
   "outputs": [],
   "source": [
    "'''\n",
    "df = df.resample('1t').interpolate()\n",
    "df_mov_mean = df.rolling(window=90).mean().dropna()\n",
    "df_mov_std = df.rolling(window=90).std().dropna()\n",
    "df = df.loc[df_mov_mean.index]\n",
    "df_env_pos = df_mov_mean + 3 * df_mov_std\n",
    "df_env_neg = df_mov_mean - 3 * df_mov_std\n",
    "'''"
   ]
  },
  {
   "cell_type": "code",
   "execution_count": null,
   "metadata": {},
   "outputs": [],
   "source": [
    "df_shift = pd.concat({key: df.shift(key) for key in range(0, 10)},\n",
    "                   names=['Time Shift'], axis=1).dropna()"
   ]
  },
  {
   "cell_type": "code",
   "execution_count": null,
   "metadata": {},
   "outputs": [],
   "source": [
    "mean_ = []\n",
    "std_ = []\n",
    "rmean = utils.TimeRolling(stats.Mean(), period=dt.timedelta(hours=1,\n",
    "                                                            minutes=30))\n",
    "rvar = utils.TimeRolling(stats.Var(), \n",
    "                          period=dt.timedelta(hours=1, minutes=30))\n",
    "\n",
    "for t, x in df.iterrows():\n",
    "    mean_.append(rmean.update(x.SOC, t=t.tz_localize(None)).get())\n",
    "    std_.append((rvar.update(x.SOC, t=t.tz_localize(None)).get()**(1/2)))\n",
    "\n",
    "s_mean = pd.Series(mean_, index=df.index)\n",
    "s_std = pd.Series(std_, index=df.index)"
   ]
  },
  {
   "cell_type": "code",
   "execution_count": null,
   "metadata": {},
   "outputs": [],
   "source": [
    "s_env_pos = s_mean + 3 * s_std\n",
    "s_env_neg = s_mean - 3 * s_std"
   ]
  },
  {
   "cell_type": "code",
   "execution_count": null,
   "metadata": {},
   "outputs": [],
   "source": [
    "fig = go.Figure()\n",
    "\n",
    "fig.add_trace(go.Scatter(\n",
    "    x=s_env_pos.index.append(s_env_pos.index[::-1]),\n",
    "    y= pd.concat([s_env_pos, s_env_neg[::-1]]),\n",
    "    fill='toself',\n",
    "    fillcolor='rgba(100,0,80,0.2)',\n",
    "    line_color='rgba(255,255,255,0)',\n",
    "    showlegend=False,\n",
    "    name='river Mov Mean SOC',\n",
    "))\n",
    "\n",
    "fig.add_trace(go.Scatter(\n",
    "    x=s_mean.index, y=s_mean,\n",
    "    line_color='rgb(100,0,80)',\n",
    "    name='river Mov Mean SOC',\n",
    "))"
   ]
  },
  {
   "cell_type": "code",
   "execution_count": null,
   "metadata": {},
   "outputs": [],
   "source": [
    "import numpy as np\n",
    "\n",
    "class HalfSpaceTrees(anomaly.HalfSpaceTrees):\n",
    "  def predict_proba_one(self, x):\n",
    "    p = anomaly.HalfSpaceTrees.score_one(self, x)\n",
    "    return {False: 1.0 - p, True: p}\n",
    "\n",
    "\n",
    "class QuantileFilter(anomaly.QuantileFilter):\n",
    "  def __init__(self, anomaly_detector, q: float, protect_anomaly_detector=True):\n",
    "        super().__init__(\n",
    "            anomaly_detector=anomaly_detector,\n",
    "            protect_anomaly_detector=protect_anomaly_detector,\n",
    "            q=q\n",
    "        )\n",
    "  def predict_one(self, *args):\n",
    "    score = self.score_one(*args)\n",
    "    return score >= (self.quantile.get() or np.inf)"
   ]
  },
  {
   "cell_type": "code",
   "execution_count": null,
   "metadata": {},
   "outputs": [],
   "source": [
    "rmean = utils.TimeRolling(stats.Mean(), \n",
    "                          period=dt.timedelta(hours=1, minutes=30))\n",
    "rstd = utils.TimeRolling(stats.Var(), \n",
    "                          period=dt.timedelta(hours=1, minutes=30))\n",
    "to_discard = [i for i in df.columns if i != 'SOC']\n",
    "\n",
    "def get_rmean(x):\n",
    "    return compose.Prefixer('mean_').transform_one(\n",
    "        rmean.update(x.drop('time'), t=x['time'].tz_localize(None)).get()\n",
    "        )\n",
    "def get_rstd(x):\n",
    "    return compose.Prefixer('std_').transform_one(\n",
    "        rstd.update(x.drop('time'), t=x['time'].tz_localize(None)).get()\n",
    "        )\n",
    "def get_stat(x):\n",
    "    return {**x , **get_rmean(x), **get_rstd(x)}\n",
    "def get_rdev(x):\n",
    "    return {**x, 'dev': x['SOC'] - x['mean']}"
   ]
  },
  {
   "cell_type": "code",
   "execution_count": null,
   "metadata": {},
   "outputs": [],
   "source": [
    "model = get_stat\n",
    "model |= compose.FuncTransformer(get_rdev)"
   ]
  },
  {
   "cell_type": "code",
   "execution_count": null,
   "metadata": {},
   "outputs": [],
   "source": [
    "mean = stats.Mean()"
   ]
  },
  {
   "cell_type": "code",
   "execution_count": null,
   "metadata": {},
   "outputs": [],
   "source": [
    "mean_old = mean.get()"
   ]
  },
  {
   "cell_type": "code",
   "execution_count": null,
   "metadata": {},
   "outputs": [],
   "source": [
    "mean_new = mean.update(row.drop('time')).get()"
   ]
  },
  {
   "cell_type": "code",
   "execution_count": null,
   "metadata": {},
   "outputs": [],
   "source": [
    "mean_old, mean_new"
   ]
  },
  {
   "cell_type": "code",
   "execution_count": null,
   "metadata": {},
   "outputs": [],
   "source": [
    "rmean.update(row.drop('time'), t=row['time'].tz_localize(None)).get()"
   ]
  },
  {
   "cell_type": "code",
   "execution_count": null,
   "metadata": {},
   "outputs": [],
   "source": [
    "rstd.update(row.drop('time'), t=row['time'].tz_localize(None)).get()"
   ]
  },
  {
   "cell_type": "code",
   "execution_count": null,
   "metadata": {},
   "outputs": [],
   "source": [
    "get_rstd(row)"
   ]
  },
  {
   "cell_type": "code",
   "execution_count": null,
   "metadata": {},
   "outputs": [],
   "source": [
    "model.predict_one(row)"
   ]
  },
  {
   "cell_type": "code",
   "execution_count": null,
   "metadata": {},
   "outputs": [],
   "source": [
    "rmean = utils.TimeRolling(stats.Mean(), \n",
    "                          period=dt.timedelta(hours=1, minutes=30))\n",
    "rstd = utils.TimeRolling(stats.Var(), \n",
    "                          period=dt.timedelta(hours=1, minutes=30))\n",
    "to_discard = [i for i in df.columns if i != 'SOC']\n",
    "\n",
    "def get_rmean(x):\n",
    "    return {**compose.Prefixer('mean_').transform_one(\n",
    "        rmean.update(x.drop('time'), t=x['time'].tz_localize(None)).get()\n",
    "        )}\n",
    "def get_rstd(x):\n",
    "    return {**compose.Prefixer('std_').transform_one(\n",
    "        rstd.update(x.drop('time'), t=x['time'].tz_localize(None)).get()\n",
    "        )}\n",
    "def get_stat(x):\n",
    "    return {**x , **get_rmean(x), **get_rstd(x)}\n",
    "def get_rdev(x):\n",
    "    return {**x, 'dev': x['SOC'] - x['mean']}\n",
    "\n",
    "model = get_stat\n",
    "model |= compose.FuncTransformer(get_rdev)\n",
    "model |= QuantileFilter(\n",
    "        HalfSpaceTrees(seed=42),\n",
    "        q=0.997\n",
    "    )\n",
    "\n",
    "anomaly_samples = []\n",
    "anomaly_env_pos = []\n",
    "anomaly_env_neg = []\n",
    "list_env_pos = []\n",
    "list_env_neg = []\n",
    "\n",
    "for i, x in df.reset_index().iterrows():\n",
    "    \n",
    "    anomaly_samples.append(model.predict_one(x))\n",
    "    \n",
    "    x_mean = rmean.get()\n",
    "    x_std = rstd.get()\n",
    "    x_env_pos = {\"SOC\": x_mean + 3 * x_std**(1/2)}\n",
    "    x_env_neg = {\"SOC\": x_mean - 3 * x_std**(1/2)}\n",
    "    list_env_pos.append(x_env_pos)\n",
    "    list_env_neg.append(x_env_neg)\n",
    "    anomaly_env_pos.append(model.predict_one(x))\n",
    "    anomaly_env_neg.append(model.predict_one(x))\n",
    "    \n",
    "    model = model.learn_one(x)\n",
    "    \n",
    "s_env_pos = pd.Series(list_env_pos, index=df.index)\n",
    "s_env_neg = pd.Series(list_env_neg, index=df.index)"
   ]
  },
  {
   "cell_type": "code",
   "execution_count": null,
   "metadata": {},
   "outputs": [],
   "source": [
    "len(anomaly_samples), sum(anomaly_samples)"
   ]
  },
  {
   "cell_type": "code",
   "execution_count": null,
   "metadata": {},
   "outputs": [],
   "source": [
    "sum(pd.Series(anomaly_samples).diff().dropna() == 1)"
   ]
  },
  {
   "cell_type": "code",
   "execution_count": null,
   "metadata": {},
   "outputs": [],
   "source": [
    "s_env_pos"
   ]
  },
  {
   "cell_type": "code",
   "execution_count": null,
   "metadata": {},
   "outputs": [],
   "source": [
    "fig = go.Figure()\n",
    "\n",
    "fig.add_trace(go.Scatter(\n",
    "    x=s_env_pos.index.append(s_env_pos.index[::-1]),\n",
    "    y= pd.concat([s_env_pos, s_env_neg[::-1]]),\n",
    "    fill='toself',\n",
    "    fillcolor='rgba(100,0,80,0.2)',\n",
    "    line_color='rgba(255,255,255,0)',\n",
    "    showlegend=False,\n",
    "    name='Mov Mean SOC',\n",
    "))\n",
    "\n",
    "fig.add_trace(go.Scatter(\n",
    "    x=s_mean.index, y=s_mean,\n",
    "    line_color='rgb(100,0,80)',\n",
    "    name='Mov Mean SOC',\n",
    "))\n",
    "\n",
    "fig.add_trace(go.Scatter(\n",
    "    x=df.index, y=df.SOC,\n",
    "    line_color='rgb(0,140,120)',\n",
    "    name='SOC',\n",
    "))\n",
    "\n",
    "a = pd.Series(anomaly_samples, index=df.index).astype(int).diff()\n",
    "for x0, x1 in zip(a[a == 1].index, a[a == -1].index):\n",
    "    fig.add_vrect(x0=x0, x1=x1, fillcolor=\"red\", opacity=0.25)"
   ]
  },
  {
   "cell_type": "code",
   "execution_count": null,
   "metadata": {},
   "outputs": [],
   "source": [
    "fig.show()"
   ]
  },
  {
   "cell_type": "code",
   "execution_count": null,
   "metadata": {},
   "outputs": [],
   "source": [
    "fig.add_trace(go.Scatter(\n",
    "    x=df.index, y=pd.Series(anomaly_env_pos).astype(int),\n",
    "    line_color='rgb(160,0,0)',\n",
    "    name='Anomaly Env Pos',\n",
    "))\n",
    "\n",
    "fig.add_trace(go.Scatter(\n",
    "    x=df.index, y=pd.Series(anomaly_env_neg).astype(int),\n",
    "    line_color='rgb(160,0,0)',\n",
    "    name='Anomaly Env Neg',\n",
    "))"
   ]
  },
  {
   "attachments": {},
   "cell_type": "markdown",
   "metadata": {},
   "source": [
    "Explore value score relationship"
   ]
  },
  {
   "cell_type": "code",
   "execution_count": null,
   "metadata": {},
   "outputs": [],
   "source": [
    "l = []\n",
    "for i in [*map(lambda x: x/1000, range(200, 450))]:\n",
    "    x = {\"SOC\": i}\n",
    "    l.append(model.score_one(x))\n",
    "px.line(x=[*map(lambda x: x/1000, range(200, 450))],y=l)"
   ]
  }
 ],
 "metadata": {
  "kernelspec": {
   "display_name": "venv",
   "language": "python",
   "name": "python3"
  },
  "language_info": {
   "codemirror_mode": {
    "name": "ipython",
    "version": 3
   },
   "file_extension": ".py",
   "mimetype": "text/x-python",
   "name": "python",
   "nbconvert_exporter": "python",
   "pygments_lexer": "ipython3",
   "version": "3.10.1 (v3.10.1:2cd268a3a9, Dec  6 2021, 14:28:59) [Clang 13.0.0 (clang-1300.0.29.3)]"
  },
  "orig_nbformat": 4,
  "vscode": {
   "interpreter": {
    "hash": "3687c152e6c0e1eeeaff2a3b00d71d22322a3217307c0c25275bf60fac6f7cb1"
   }
  }
 },
 "nbformat": 4,
 "nbformat_minor": 2
}
